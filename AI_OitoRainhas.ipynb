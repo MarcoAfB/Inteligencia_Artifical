{
 "cells": [
  {
   "cell_type": "code",
   "execution_count": 1,
   "metadata": {},
   "outputs": [],
   "source": [
    "import numpy as np"
   ]
  },
  {
   "cell_type": "code",
   "execution_count": 2,
   "metadata": {},
   "outputs": [],
   "source": [
    "class Node:\n",
    "         \n",
    "    def __init__(self, initial, parent=None, acao=None, custo=0):\n",
    "\n",
    "        self.initial = initial\n",
    "    \n",
    "    def __repr__(self):\n",
    "        return \"<Node {}>\".format(self.initial)\n",
    "\n",
    "    def expandir(self, problema, rainha=None):\n",
    "\n",
    "        if rainha == None:\n",
    "            rainha_list = self.encontrar_rainha()\n",
    "            sorteio = np.random.choice(range(len(rainha_list)))\n",
    "            rainha = rainha_list[sorteio]\n",
    "        \n",
    "        return [self.child_node(problema, rainha, acao) \n",
    "                for acao in problema.pos_mov(self.initial)]\n",
    "        \n",
    "\n",
    "    def child_node(self, problem, rainha, acao):\n",
    "\n",
    "        prox_estado = problem.jogada(self.initial, rainha, acao)\n",
    "\n",
    "        prox_node = Node(prox_estado, self, acao, 0)\n",
    "\n",
    "        return prox_node\n",
    "    \n",
    "    def encontrar_rainha(self):\n",
    "\n",
    "        coordenadas = []\n",
    "        fil = len(self.initial)\n",
    "        col = len(self.initial[:1][0])\n",
    "        for i in range(fil):\n",
    "            for j in range(col):\n",
    "                if self.initial[i][j] == 1:\n",
    "                    coordenadas.append([i,j])\n",
    "              \n",
    "        return coordenadas"
   ]
  },
  {
   "cell_type": "code",
   "execution_count": 8,
   "metadata": {},
   "outputs": [],
   "source": [
    "class oitorainhas:\n",
    "\n",
    "    def __init__(self, x, y, tabuleiro=None):\n",
    "        self.x = x\n",
    "        self.y = y\n",
    "\n",
    "        if tabuleiro == None:\n",
    "            self.tabuleiro = np.zeros([x,y])\n",
    "            rainhas = 0\n",
    "            while True:\n",
    "\n",
    "                xx =  np.random.randint(self.x)\n",
    "                yy =  np.random.randint(self.y)\n",
    "\n",
    "                if self.tabuleiro[xx][yy] != 1:\n",
    "                    self.tabuleiro[xx][yy] = 1\n",
    "                    rainhas+=1\n",
    "                    \n",
    "                if rainhas ==  self.x:\n",
    "                    break\n",
    "                \n",
    "\n",
    "    def pos_mov(self, tabuleiro):\n",
    "\n",
    "        pos = []\n",
    "        for i in range(self.x):\n",
    "            for j in range(self.y):\n",
    "                if tabuleiro[i][j] != 1:\n",
    "                    pos.append([i,j])\n",
    "        \n",
    "        return pos\n",
    "\n",
    "    def jogada(self, tabuleiro, rainha, coordenada):\n",
    "\n",
    "        tab = tabuleiro.copy()\n",
    "\n",
    "        tab[rainha[0],rainha[1]] = 0\n",
    "        tab[coordenada[0],coordenada[1]] = 1\n",
    "\n",
    "        return tab\n",
    "    \n",
    "    def test_objetivo(self, tabuleiro):\n",
    "\n",
    "        invalido = 0\n",
    "\n",
    "        for icol in range(self.y):\n",
    "\n",
    "            for irow in range(self.x):\n",
    "    \n",
    "    \n",
    "                if(tabuleiro[irow][icol] == 1):\n",
    "               \n",
    "\n",
    "                    # Contar 1s na coluna icol\n",
    "                    for k in range(self.y):\n",
    "                        if (tabuleiro[irow][k] == 1 and [irow, icol]!=[irow, k]):\n",
    "                            invalido+=1\n",
    "\n",
    "                    # Contar 1s na fileira irow\n",
    "                    for k in range(self.x):\n",
    "                        if (tabuleiro[k][icol] == 1 and [irow, icol]!=[k, icol]):\n",
    "                            invalido+=1\n",
    "\n",
    "                    # encontrar diagonal esquerda (secundaria)\n",
    "                    col_esq = icol\n",
    "                    row_esq = irow\n",
    "                    while(col_esq != 0 and row_esq != (self.x-1)):\n",
    "                        col_esq-=1\n",
    "                        row_esq+=1       \n",
    "\n",
    "                    # cencontrar diagonal direita (primaria)\n",
    "                    col_dir = icol\n",
    "                    row_dir = irow\n",
    "                    while(col_dir != (self.y-1) and row_dir != (self.x-1)):\n",
    "                        col_dir+=1\n",
    "                        row_dir+=1\n",
    "\n",
    "                    # contar 1's diagonal esquerda (secundaria)\n",
    "                    while(row_esq >= 0 and col_esq <= self.y-1):\n",
    "\n",
    "                        if (tabuleiro[row_esq][col_esq] == 1 and [irow, icol]!=[row_esq, col_esq]):\n",
    "                            invalido+=1\n",
    "\n",
    "                        col_esq+=1\n",
    "                        row_esq-=1\n",
    "\n",
    "                    # contar 1's diagonal direita (primaria)\n",
    "                    while(col_dir>=0 and row_dir>=0 and [irow, icol]!=[row_dir, col_dir]):\n",
    "\n",
    "                        if (tabuleiro[row_dir][col_dir] == 1):\n",
    "                            invalido+=1\n",
    "                            \n",
    "                        col_dir-=1\n",
    "                        row_dir-=1\n",
    "       \n",
    "        if invalido == 0:\n",
    "            return True\n",
    "        else:\n",
    "            return False"
   ]
  },
  {
   "cell_type": "markdown",
   "metadata": {},
   "source": [
    "Será feito um algoritmo de busca em largura (utilizado anteriormente para buscar caminhos) que irá buscar resolver o desafio das rainhas. Esse tipo de algoritmo para esse tipo de problema é ruim, já que o desafio não pede uma descrição de rotas podemos utilizar soluções que não se preocupam com isso e portanto utilizam menos memória e por não gerenciar muitos estados podem progredir mais rapidamente."
   ]
  },
  {
   "cell_type": "code",
   "execution_count": 33,
   "metadata": {},
   "outputs": [],
   "source": [
    "def Busca_largura(prob):\n",
    "\n",
    "    # Lista que irá manter os estados \n",
    "    frontier = [Node(prob.tabuleiro)]\n",
    "\n",
    "    # Verificar se o primeiro estado é o objetivo\n",
    "    if prob.test_objetivo(frontier[0].initial):\n",
    "            return frontier[0]\n",
    "    \n",
    "    while frontier:\n",
    "\n",
    "        '''Selecionar o sempre o primeiro estado\n",
    "        da lista, ou seja, sempre os mais rasos''' \n",
    "        no = frontier[0]\n",
    "\n",
    "        # Novos estados derivados do nó selecionado\n",
    "        filhos = no.expandir(prob)\n",
    "\n",
    "        # Loop por cada um dos estados recém criados\n",
    "        for filho in filhos:\n",
    "\n",
    "            # Flag identificando se não é um estado repetido\n",
    "            unico = False\n",
    "            \n",
    "            '''Irá acontecer um loop por toda a lista de\n",
    "            estados verificando se os que foram recém criados\n",
    "            já estão na lista'''\n",
    "            for i in range(len(frontier)):\n",
    "\n",
    "                if filho != frontier[i]:\n",
    "                    unico = True\n",
    "\n",
    "            # Caso o estado não exista na lista\n",
    "            if unico:\n",
    "                # Será feito o teste se é o objetivo\n",
    "                if prob.test_objetivo(filho.initial):\n",
    "\n",
    "                    return filho\n",
    "                # Será adicionado à lista\n",
    "                frontier.append(filho)\n",
    "\n",
    "        # Iremos remover o estado que gerou a expansão \n",
    "        frontier.remove(no)"
   ]
  },
  {
   "cell_type": "markdown",
   "metadata": {},
   "source": [
    "Um ambiente até 5x5 é computável para esse algoritmo de busca em largura, mais do que isso o tempo passa a ser grande"
   ]
  },
  {
   "cell_type": "code",
   "execution_count": 35,
   "metadata": {},
   "outputs": [
    {
     "data": {
      "text/plain": [
       "array([[0., 1., 0., 0., 0.],\n",
       "       [0., 0., 0., 0., 1.],\n",
       "       [0., 0., 0., 0., 0.],\n",
       "       [1., 0., 0., 0., 0.],\n",
       "       [0., 0., 0., 1., 1.]])"
      ]
     },
     "execution_count": 35,
     "metadata": {},
     "output_type": "execute_result"
    }
   ],
   "source": [
    "desafio = oitorainhas(5,5)\n",
    "desafio.tabuleiro"
   ]
  },
  {
   "cell_type": "code",
   "execution_count": 36,
   "metadata": {},
   "outputs": [
    {
     "data": {
      "text/plain": [
       "array([[0., 1., 0., 0., 0.],\n",
       "       [0., 0., 0., 0., 1.],\n",
       "       [0., 0., 1., 0., 0.],\n",
       "       [1., 0., 0., 0., 0.],\n",
       "       [0., 0., 0., 1., 0.]])"
      ]
     },
     "execution_count": 36,
     "metadata": {},
     "output_type": "execute_result"
    }
   ],
   "source": [
    "solucao = Busca_largura(desafio)\n",
    "solucao.initial"
   ]
  }
 ],
 "metadata": {
  "kernelspec": {
   "display_name": "env",
   "language": "python",
   "name": "python3"
  },
  "language_info": {
   "codemirror_mode": {
    "name": "ipython",
    "version": 3
   },
   "file_extension": ".py",
   "mimetype": "text/x-python",
   "name": "python",
   "nbconvert_exporter": "python",
   "pygments_lexer": "ipython3",
   "version": "3.9.10"
  },
  "orig_nbformat": 4
 },
 "nbformat": 4,
 "nbformat_minor": 2
}
