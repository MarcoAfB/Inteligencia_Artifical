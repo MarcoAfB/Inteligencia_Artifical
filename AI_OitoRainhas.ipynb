{
 "cells": [
  {
   "cell_type": "code",
   "execution_count": 1,
   "metadata": {},
   "outputs": [],
   "source": [
    "import numpy as np"
   ]
  },
  {
   "cell_type": "code",
   "execution_count": 2,
   "metadata": {},
   "outputs": [],
   "source": [
    "class Node:\n",
    "         \n",
    "    def __init__(self, initial, parent=None, acao=None, custo=0):\n",
    "\n",
    "        self.initial = initial\n",
    "    \n",
    "    def __repr__(self):\n",
    "        return \"<Node {}>\".format(self.initial)\n",
    "\n",
    "    def expandir(self, problema, rainha=None):\n",
    "\n",
    "        if rainha == None:\n",
    "            rainha_list = self.encontrar_rainha()\n",
    "            sorteio = np.random.choice(range(len(rainha_list)))\n",
    "            rainha = rainha_list[sorteio]\n",
    "        \n",
    "        return [self.child_node(problema, rainha, acao) \n",
    "                for acao in problema.pos_mov(self.initial)]\n",
    "        \n",
    "\n",
    "    def child_node(self, problem, rainha, acao):\n",
    "\n",
    "        prox_estado = problem.jogada(self.initial, rainha, acao)\n",
    "\n",
    "        prox_node = Node(prox_estado, self, acao, 0)\n",
    "\n",
    "        return prox_node\n",
    "    \n",
    "    def encontrar_rainha(self):\n",
    "\n",
    "        coordenadas = []\n",
    "        fil = len(self.initial)\n",
    "        col = len(self.initial[:1][0])\n",
    "        for i in range(fil):\n",
    "            for j in range(col):\n",
    "                if self.initial[i][j] == 1:\n",
    "                    coordenadas.append([i,j])\n",
    "              \n",
    "        return coordenadas"
   ]
  },
  {
   "cell_type": "code",
   "execution_count": 3,
   "metadata": {},
   "outputs": [],
   "source": [
    "class oitorainhas:\n",
    "\n",
    "    def __init__(self, x, y, tabuleiro=None):\n",
    "        self.x = x\n",
    "        self.y = y\n",
    "\n",
    "        if tabuleiro == None:\n",
    "            self.tabuleiro = np.zeros([x,y])\n",
    "            rainhas = 0\n",
    "            while True:\n",
    "\n",
    "                xx =  np.random.randint(self.x)\n",
    "                yy =  np.random.randint(self.y)\n",
    "\n",
    "                if self.tabuleiro[xx][yy] != 1:\n",
    "                    self.tabuleiro[xx][yy] = 1\n",
    "                    rainhas+=1\n",
    "                    \n",
    "                if rainhas ==  self.x:\n",
    "                    break\n",
    "                \n",
    "\n",
    "    def pos_mov(self, tabuleiro):\n",
    "\n",
    "        pos = []\n",
    "        for i in range(self.x):\n",
    "            for j in range(self.y):\n",
    "                if tabuleiro[i][j] != 1:\n",
    "                    pos.append([i,j])\n",
    "        \n",
    "        return pos\n",
    "\n",
    "    def jogada(self, tabuleiro, rainha, coordenada):\n",
    "\n",
    "        tab = tabuleiro.copy()\n",
    "\n",
    "        tab[rainha[0],rainha[1]] = 0\n",
    "        tab[coordenada[0],coordenada[1]] = 1\n",
    "\n",
    "        return tab\n",
    "    \n",
    "    def test_objetivo(self, tabuleiro):\n",
    "\n",
    "        invalido = 0\n",
    "\n",
    "        for icol in range(self.y):\n",
    "\n",
    "            for irow in range(self.x):\n",
    "    \n",
    "    \n",
    "                if(tabuleiro[irow][icol] == 1):\n",
    "               \n",
    "\n",
    "                    # Contar 1s na coluna icol\n",
    "                    for k in range(self.y):\n",
    "                        if (tabuleiro[irow][k] == 1 and [irow, icol]!=[irow, k]):\n",
    "                            invalido+=1\n",
    "\n",
    "                    # Contar 1s na fileira irow\n",
    "                    for k in range(self.x):\n",
    "                        if (tabuleiro[k][icol] == 1 and [irow, icol]!=[k, icol]):\n",
    "                            invalido+=1\n",
    "\n",
    "                    # encontrar diagonal esquerda (secundaria)\n",
    "                    col_esq = icol\n",
    "                    row_esq = irow\n",
    "                    while(col_esq != 0 and row_esq != (self.x-1)):\n",
    "                        col_esq-=1\n",
    "                        row_esq+=1       \n",
    "\n",
    "                    # cencontrar diagonal direita (primaria)\n",
    "                    col_dir = icol\n",
    "                    row_dir = irow\n",
    "                    while(col_dir != (self.y-1) and row_dir != (self.x-1)):\n",
    "                        col_dir+=1\n",
    "                        row_dir+=1\n",
    "\n",
    "                    # contar 1's diagonal esquerda (secundaria)\n",
    "                    while(row_esq >= 0 and col_esq <= self.y-1):\n",
    "\n",
    "                        if (tabuleiro[row_esq][col_esq] == 1 and [irow, icol]!=[row_esq, col_esq]):\n",
    "                            invalido+=1\n",
    "\n",
    "                        col_esq+=1\n",
    "                        row_esq-=1\n",
    "\n",
    "                    # contar 1's diagonal direita (primaria)\n",
    "                    while(col_dir>=0 and row_dir>=0):\n",
    "\n",
    "                        if (tabuleiro[row_dir][col_dir] == 1 and [irow, icol]!=[row_dir, col_dir]):\n",
    "                            invalido+=1\n",
    "                            \n",
    "                        col_dir-=1\n",
    "                        row_dir-=1\n",
    "       \n",
    "        if invalido == 0:\n",
    "            return True\n",
    "        else:\n",
    "            return False"
   ]
  },
  {
   "cell_type": "markdown",
   "metadata": {},
   "source": [
    "Será feito um algoritmo de busca em largura (utilizado anteriormente para buscar caminhos) que irá buscar resolver o desafio das rainhas. Esse tipo de algoritmo para esse tipo de problema é ruim, já que o desafio não pede uma descrição de rotas podemos utilizar soluções que não se preocupam com isso e portanto utilizam menos memória e por não gerenciar muitos estados podem progredir mais rapidamente."
   ]
  },
  {
   "cell_type": "code",
   "execution_count": 4,
   "metadata": {},
   "outputs": [],
   "source": [
    "def Busca_largura(prob):\n",
    "\n",
    "    # Lista que irá manter os estados \n",
    "    frontier = [Node(prob.tabuleiro)]\n",
    "\n",
    "    # Verificar se o primeiro estado é o objetivo\n",
    "    if prob.test_objetivo(frontier[0].initial):\n",
    "            return frontier[0]\n",
    "    \n",
    "    while frontier:\n",
    "\n",
    "        '''Selecionar o sempre o primeiro estado\n",
    "        da lista, ou seja, sempre os mais rasos''' \n",
    "        no = frontier[0]\n",
    "\n",
    "        # Novos estados derivados do nó selecionado\n",
    "        filhos = no.expandir(prob)\n",
    "\n",
    "        # Loop por cada um dos estados recém criados\n",
    "        for filho in filhos:\n",
    "\n",
    "            # Flag identificando se não é um estado repetido\n",
    "            unico = False\n",
    "            \n",
    "            '''Irá acontecer um loop por toda a lista de\n",
    "            estados verificando se os que foram recém criados\n",
    "            já estão na lista'''\n",
    "            for i in range(len(frontier)):\n",
    "\n",
    "                if filho != frontier[i]:\n",
    "                    unico = True\n",
    "\n",
    "            # Caso o estado não exista na lista\n",
    "            if unico:\n",
    "                # Será feito o teste se é o objetivo\n",
    "                if prob.test_objetivo(filho.initial):\n",
    "\n",
    "                    return filho\n",
    "                # Será adicionado à lista\n",
    "                frontier.append(filho)\n",
    "\n",
    "        # Iremos remover o estado que gerou a expansão \n",
    "        frontier.remove(no)"
   ]
  },
  {
   "cell_type": "markdown",
   "metadata": {},
   "source": [
    "Um ambiente até 5x5 é computável para esse algoritmo de busca em largura, mais do que isso o tempo passa a ser grande"
   ]
  },
  {
   "cell_type": "code",
   "execution_count": 5,
   "metadata": {},
   "outputs": [
    {
     "data": {
      "text/plain": [
       "array([[0., 0., 0., 0., 0.],\n",
       "       [0., 1., 0., 0., 0.],\n",
       "       [0., 0., 0., 0., 1.],\n",
       "       [1., 0., 1., 0., 0.],\n",
       "       [0., 0., 0., 1., 0.]])"
      ]
     },
     "execution_count": 5,
     "metadata": {},
     "output_type": "execute_result"
    }
   ],
   "source": [
    "desafio = oitorainhas(5,5)\n",
    "desafio.tabuleiro"
   ]
  },
  {
   "cell_type": "code",
   "execution_count": 6,
   "metadata": {},
   "outputs": [
    {
     "data": {
      "text/plain": [
       "array([[0., 0., 0., 1., 0.],\n",
       "       [0., 1., 0., 0., 0.],\n",
       "       [0., 0., 0., 0., 1.],\n",
       "       [0., 0., 1., 0., 0.],\n",
       "       [1., 0., 0., 0., 0.]])"
      ]
     },
     "execution_count": 6,
     "metadata": {},
     "output_type": "execute_result"
    }
   ],
   "source": [
    "solucao = Busca_largura(desafio)\n",
    "solucao.initial"
   ]
  },
  {
   "cell_type": "markdown",
   "metadata": {},
   "source": [
    "Agora com um algoritmo mais apropriado para o problema esperamos poder resolver problemas maiores que que apenas em uma matriz 5x5.\n",
    "Na verdade 'subida de encosta' não é um algoritmo completo, ele irá funcionar:\n",
    " - com um estado de inicio será feito o teste objetivo e então iremos expandi-lo\n",
    " - Dentre os estados expandidos será selecionado o que melhor satisfaz uma determinada função (Em nosso caso queremos que a função diminua)\n",
    " - Caso dentre os estados recém formados nem um pode melhorar a função (diminuir em nosso caso) a busca será encerrado e o estado retornado, mesmo que não seja o objetivo (o objetivo teria a função igual à zero)\n",
    "\n",
    "Perceba que será apenas a quantia do fator de ramificação do problema na memória (sendo um forma radical de lidar com a questão, podemos utilizar alguns algoritmos que utilizam memória de forma limitada para acelerar a busca), e o motivo de não ser completo está no item 3"
   ]
  },
  {
   "cell_type": "code",
   "execution_count": 7,
   "metadata": {},
   "outputs": [],
   "source": [
    "'''Função heurística utilizada para auxiliar \n",
    "o algoritmo 'subida de encosta'. Ela irá retornar \n",
    "a quantia de ataques entre as rainhas estão acontecendo\n",
    "buscando então selecionar os estados que diminuam essa função'''\n",
    "\n",
    "def h_eliminacoes(tabuleiro):\n",
    "\n",
    "        x = tabuleiro.shape[0]\n",
    "        y = tabuleiro.shape[1]\n",
    "\n",
    "        invalido = 0\n",
    "\n",
    "        for icol in range(y):\n",
    "\n",
    "            for irow in range(x):\n",
    "    \n",
    "                if(tabuleiro[irow][icol] == 1):\n",
    "        \n",
    "                    # Contar 1s na coluna icol\n",
    "                    for k in range(y):\n",
    "                        if (tabuleiro[irow][k] == 1 and [irow, icol]!=[irow, k]):                   \n",
    "                            invalido+=1\n",
    "\n",
    "                    # Contar 1s na fileira irow\n",
    "                    for k in range(x):\n",
    "\n",
    "                        if (tabuleiro[k][icol] == 1 and [irow, icol]!=[k, icol]):\n",
    "                            invalido+=1\n",
    "\n",
    "                    # encontrar diagonal esquerda (secundaria)\n",
    "                    col_esq = icol\n",
    "                    row_esq = irow\n",
    "                    while(col_esq != 0 and row_esq != (x-1)):\n",
    "\n",
    "                        col_esq-=1\n",
    "                        row_esq+=1       \n",
    "\n",
    "                    # cencontrar diagonal direita (primaria)\n",
    "                    col_dir = icol\n",
    "                    row_dir = irow\n",
    "                    while(col_dir != (y-1) and row_dir != (x-1)):\n",
    "\n",
    "                        col_dir+=1\n",
    "                        row_dir+=1\n",
    "\n",
    "                    # contar 1's diagonal esquerda (secundaria)\n",
    "                    while(row_esq >= 0 and col_esq <= y-1):\n",
    "\n",
    "                        if (tabuleiro[row_esq][col_esq] == 1 and [irow, icol]!=[row_esq, col_esq]):\n",
    "                            invalido+=1\n",
    "\n",
    "                        col_esq+=1\n",
    "                        row_esq-=1\n",
    "\n",
    "                    # contar 1's diagonal direita (primaria)\n",
    "                    while(col_dir>=0 and row_dir>=0 and [irow, icol]!=[row_dir, col_dir]):\n",
    "\n",
    "                        if (tabuleiro[row_dir][col_dir] == 1):\n",
    "                            invalido+=1\n",
    "                            \n",
    "                        col_dir-=1\n",
    "                        row_dir-=1\n",
    "\n",
    "        return invalido"
   ]
  },
  {
   "cell_type": "code",
   "execution_count": 8,
   "metadata": {},
   "outputs": [],
   "source": [
    "def Subida_Encosta(prob, func):\n",
    "\n",
    "    # Estado que iremos manipular\n",
    "    no = Node(prob.tabuleiro)\n",
    "\n",
    "    # Testar se é o objetivo\n",
    "    if prob.test_objetivo(no.initial):\n",
    "        return no\n",
    "\n",
    "    while True:\n",
    "\n",
    "        # Expansão do estado selecionado\n",
    "        filhos = no.expandir(prob)\n",
    "\n",
    "        # Inicializar a variável filho\n",
    "        filho = no\n",
    "        '''Loop pelos estados expandidos\n",
    "        selecionando o que melhor satisfaz \n",
    "        a função'''\n",
    "        for i in filhos:\n",
    "            if func(i.initial) < func(no.initial):\n",
    "                filho = i\n",
    "            \n",
    "        # Caso não haja estados que melhores a função, encerram as buscas\n",
    "        if func(filho.initial) == func(no.initial):    \n",
    "            break\n",
    "\n",
    "        no = filho\n",
    "\n",
    "    print('O objetivo foi cumprido: ', prob.test_objetivo(no.initial))\n",
    "    \n",
    "    \n",
    "    return no\n",
    "\n",
    "'''Variação da subida de encosta em que é permitido um limite \"lim_passos\"\n",
    "de passos que não irão melhorar a função (nem piora-la), mantendo ela igual\n",
    "apenas mudando o estado na tentativa de sair de uma região linear (em questão à função)'''\n",
    "def Subida_Passos(prob, func, lim_passos=30):\n",
    "\n",
    "    no = Node(prob.tabuleiro)\n",
    "\n",
    "    passo=0\n",
    "    while True:\n",
    "\n",
    "        filhos = no.expandir(prob)\n",
    "        n=0\n",
    "    \n",
    "        for filho in filhos:\n",
    "\n",
    "            '''Será comparado se há um próximo estado melhor que atual,\n",
    "            se houver a contagem dos passos será zerada'''\n",
    "            if func(filho.initial) < func(no.initial):\n",
    "                passo = 0\n",
    "                no = filho\n",
    "                n+=1\n",
    "\n",
    "            # Retornar caso o estado atual seja o objetivo\n",
    "            elif func(no.initial) == 0:\n",
    "                return no\n",
    "\n",
    "            # Poderá haver passos ao lado contando que o limite  de passos não tenha sido excedido       \n",
    "            elif func(filho.initial) == func(no.initial) and passo <= lim_passos:\n",
    "                passo+=1\n",
    "                no = filho\n",
    "                n+=1\n",
    "\n",
    "            # Caso já tenha ultrapassado o limite de passos para o lado será retornado o estado\n",
    "            elif passo > lim_passos:\n",
    "                return no\n",
    "            \n",
    "        # Caso já tenha ultrapassado o limite de passos para o lado será cancelado o loop while\n",
    "        if passo > lim_passos:\n",
    "            break\n",
    "\n",
    "        '''Essa condição é para sair da situação de não haver mais passos para o\n",
    "        lado (já esteja em um topo um mínima sem ter atingido o  objetivo), avanços em\n",
    "        direção do objetivo e o limite de passos não tenha sido alcançado assim será cancelado\n",
    "        o while (caso contrário ficaria preso no loop)'''\n",
    "        if n == 0:\n",
    "            break\n",
    "    \n",
    "    return no\n",
    "\n",
    "\n",
    "'''Basicamente os estado que sejam melhor ou igual ao \n",
    "atual serão escolhidos de forma aleatória'''\n",
    "def Subida_Estocastica(prob, func):\n",
    "\n",
    "    no = Node(prob.tabuleiro)\n",
    "\n",
    "    while True:\n",
    "\n",
    "        filhos = no.expandir(prob)\n",
    "\n",
    "        selecionados = []\n",
    "\n",
    "        # loop para selecionar os estados \n",
    "        for filho in filhos:\n",
    "        \n",
    "            if func(filho.initial) <= func(no.initial):\n",
    "                selecionados.append(filho)\n",
    "\n",
    "        # se a lista for vazia retorna o estado atual\n",
    "        if selecionados == []:\n",
    "            return no\n",
    "        # caso contrário escolher um estado aleatoriamente\n",
    "        else:\n",
    "            no = np.random.choice(selecionados)\n",
    "\n",
    "        if func(no.initial) == 0:\n",
    "            return no   \n",
    "\n",
    "'''É o único modelo de subida de encosta mostrado até\n",
    "agora que seja completo, ele irá escolher sempre o estado\n",
    "que melhore a função, caso não haja mais ele irá gerar\n",
    "um novo tabuleiro e tentar resolve-lo até que o objetiva seja\n",
    "cumprido'''\n",
    "def Subida_Reinicio(prob, func):\n",
    "\n",
    "    no = Node(prob.tabuleiro)\n",
    " \n",
    "    while True:\n",
    "\n",
    "        filhos = no.expandir(prob)\n",
    "\n",
    "        # flag para sabermos se houve avanço\n",
    "        n = 0\n",
    "        \n",
    "        '''Irá testar todos os estados gerados, caso não\n",
    "        haja melhora haverá um reinicio executado na última\n",
    "        condicional'''\n",
    "        for filho in filhos:\n",
    "            if func(filho.initial) < func(no.initial):\n",
    "                n+=1\n",
    "                no = filho\n",
    "\n",
    "        if func(no.initial) == 0:\n",
    "            return no\n",
    "        \n",
    "        # Se não houve evolução é reiniciado o problema\n",
    "        elif n == 0:\n",
    "            no = Node(oitorainhas(8, 8).tabuleiro)  "
   ]
  },
  {
   "cell_type": "code",
   "execution_count": 9,
   "metadata": {},
   "outputs": [
    {
     "name": "stdout",
     "output_type": "stream",
     "text": [
      "[[0. 0. 0. 0. 1. 1. 0. 0.]\n",
      " [0. 0. 0. 0. 0. 0. 1. 0.]\n",
      " [0. 0. 0. 0. 0. 0. 0. 0.]\n",
      " [0. 0. 0. 0. 0. 0. 0. 0.]\n",
      " [0. 0. 0. 0. 0. 0. 0. 1.]\n",
      " [0. 0. 0. 0. 1. 0. 0. 1.]\n",
      " [0. 1. 0. 0. 0. 0. 0. 0.]\n",
      " [0. 0. 0. 1. 0. 0. 0. 0.]]\n"
     ]
    }
   ],
   "source": [
    "desafio = oitorainhas(8,8)\n",
    "print(desafio.tabuleiro)"
   ]
  },
  {
   "cell_type": "markdown",
   "metadata": {},
   "source": [
    "Subida de Encosta"
   ]
  },
  {
   "cell_type": "code",
   "execution_count": 10,
   "metadata": {},
   "outputs": [
    {
     "name": "stdout",
     "output_type": "stream",
     "text": [
      "O objetivo foi cumprido:  False\n",
      "[[0. 0. 0. 0. 0. 1. 0. 0.]\n",
      " [0. 0. 0. 0. 0. 0. 0. 0.]\n",
      " [0. 0. 0. 0. 0. 0. 0. 0.]\n",
      " [1. 0. 0. 0. 0. 0. 0. 0.]\n",
      " [0. 0. 1. 0. 0. 0. 0. 0.]\n",
      " [0. 0. 0. 0. 1. 0. 0. 0.]\n",
      " [0. 1. 0. 0. 0. 0. 1. 0.]\n",
      " [0. 0. 0. 1. 0. 0. 0. 1.]]\n",
      "\n",
      "Iniciado com: 11 conflitos\n",
      "Depois da resolução: 5 conflitos\n"
     ]
    }
   ],
   "source": [
    "solucao = Subida_Encosta(desafio, h_eliminacoes)\n",
    "print(solucao.initial)\n",
    "\n",
    "print(f'\\nIniciado com: {h_eliminacoes(desafio.tabuleiro)} conflitos')\n",
    "print(f'Depois da resolução: {h_eliminacoes(solucao.initial)} conflitos')"
   ]
  },
  {
   "cell_type": "markdown",
   "metadata": {},
   "source": [
    "Subida de Encosta permitindo passos ao lado"
   ]
  },
  {
   "cell_type": "code",
   "execution_count": 11,
   "metadata": {},
   "outputs": [
    {
     "name": "stdout",
     "output_type": "stream",
     "text": [
      "[[0. 0. 0. 0. 0. 1. 0. 0.]\n",
      " [0. 0. 0. 0. 0. 0. 1. 0.]\n",
      " [0. 0. 1. 0. 0. 0. 0. 0.]\n",
      " [1. 0. 0. 0. 0. 0. 0. 0.]\n",
      " [0. 0. 0. 0. 0. 0. 0. 1.]\n",
      " [0. 0. 0. 0. 1. 0. 0. 0.]\n",
      " [0. 1. 0. 0. 0. 0. 0. 0.]\n",
      " [0. 0. 0. 1. 0. 0. 0. 0.]]\n",
      "\n",
      "Iniciado com: 11 conflitos\n",
      "Depois da resolução: 3 conflitos\n"
     ]
    }
   ],
   "source": [
    "solucao = Subida_Passos(desafio, h_eliminacoes)\n",
    "print(solucao.initial)\n",
    "\n",
    "print(f'\\nIniciado com: {h_eliminacoes(desafio.tabuleiro)} conflitos')\n",
    "print(f'Depois da resolução: {h_eliminacoes(solucao.initial)} conflitos')"
   ]
  },
  {
   "cell_type": "markdown",
   "metadata": {},
   "source": [
    "Subida de Encosta selecionando os melhores estados de forma aleatória"
   ]
  },
  {
   "cell_type": "code",
   "execution_count": 12,
   "metadata": {},
   "outputs": [
    {
     "name": "stdout",
     "output_type": "stream",
     "text": [
      "[[0. 0. 0. 0. 1. 1. 0. 0.]\n",
      " [0. 1. 0. 0. 0. 0. 0. 0.]\n",
      " [0. 0. 0. 0. 0. 0. 0. 0.]\n",
      " [1. 0. 0. 0. 0. 0. 0. 0.]\n",
      " [0. 0. 1. 0. 0. 0. 0. 0.]\n",
      " [0. 0. 0. 0. 0. 0. 0. 1.]\n",
      " [0. 1. 0. 0. 0. 0. 0. 0.]\n",
      " [0. 0. 0. 1. 0. 0. 0. 0.]]\n",
      "\n",
      "Iniciado com: 11 conflitos\n",
      "Depois da resolução: 4 conflitos\n"
     ]
    }
   ],
   "source": [
    "solucao = Subida_Estocastica(desafio, h_eliminacoes)\n",
    "print(solucao.initial)\n",
    "\n",
    "print(f'\\nIniciado com: {h_eliminacoes(desafio.tabuleiro)} conflitos')\n",
    "print(f'Depois da resolução: {h_eliminacoes(solucao.initial)} conflitos')"
   ]
  },
  {
   "cell_type": "markdown",
   "metadata": {},
   "source": [
    "Subida de Encosta com reinícios "
   ]
  },
  {
   "cell_type": "code",
   "execution_count": 13,
   "metadata": {},
   "outputs": [
    {
     "name": "stdout",
     "output_type": "stream",
     "text": [
      "[[0. 0. 0. 0. 0. 1. 0. 0.]\n",
      " [1. 0. 0. 0. 0. 0. 0. 0.]\n",
      " [0. 0. 0. 0. 1. 0. 0. 0.]\n",
      " [0. 1. 0. 0. 0. 0. 0. 0.]\n",
      " [0. 0. 0. 0. 0. 0. 0. 1.]\n",
      " [0. 0. 1. 0. 0. 0. 0. 0.]\n",
      " [0. 0. 0. 0. 0. 0. 1. 0.]\n",
      " [0. 0. 0. 1. 0. 0. 0. 0.]]\n",
      "\n",
      "Iniciado com: 11 conflitos\n",
      "Depois da resolução: 0 conflitos\n"
     ]
    }
   ],
   "source": [
    "solucao = Subida_Reinicio(desafio, h_eliminacoes)\n",
    "print(solucao.initial)\n",
    "\n",
    "print(f'\\nIniciado com: {h_eliminacoes(desafio.tabuleiro)} conflitos')\n",
    "print(f'Depois da resolução: {h_eliminacoes(solucao.initial)} conflitos')"
   ]
  },
  {
   "cell_type": "markdown",
   "metadata": {},
   "source": [
    "Esse algoritmo irá combinar além da busca por melhores estados a possibilidade de movimentos piores (isso para evitar ficar preso em máximas ou mínimas locais). \n",
    "- O loop é iniciado com temp. Ele irá decidir a probabilidade de aceirarmos um movimento que piora a função, seu calculo é feito com init_temp: uma temperatura que desejamos começar, col: seria o coeficiente de resfriamento, (iteracao*col) aumenta conforme ocorrem loops diminuindo temp e a probabilidade de aceitar estados que pioram a função\n",
    "- Ao expandir o estado atual 'no' serão colocados na lista 'filhos'\n",
    "- Na lista filho um será selecionado um estado de forma completamente aleatória\n",
    "- 'Energia' irá conter caso o estado melhorou ou se piorou teremos uma métrica de quanto foi\n",
    "- No primeiro case:\n",
    "    - Se o novo estado é melhor (energia >0) ele será aceito\n",
    "    - Se não for melhor será aceito por sorte, sendo determinado por temp e quão ruim foi o novo estado isso deverá ser maior que um valor aleatório de 0 à 1"
   ]
  },
  {
   "cell_type": "code",
   "execution_count": 14,
   "metadata": {},
   "outputs": [],
   "source": [
    "def Simulated_annealing(prob, func, init_temp=10, col=0.005):\n",
    "\n",
    "    no = Node(prob.tabuleiro)\n",
    "    iteracao = 1\n",
    "    while True:\n",
    "\n",
    "        temp = init_temp / (iteracao * col)\n",
    "\n",
    "        if temp <= 0.1 :\n",
    "\n",
    "            return no\n",
    "\n",
    "        filhos = no.expandir(prob)\n",
    "        prox_no = np.random.choice(filhos)\n",
    "       \n",
    "        energia = func(no.initial) - func(prox_no.initial)\n",
    "        \n",
    "        if energia > 0 or np.exp(energia / temp) > np.random.uniform(0.0, 1.0):\n",
    "            no = prox_no\n",
    "        \n",
    "        if func(no.initial) == 0:\n",
    "         \n",
    "            return no\n",
    "        \n",
    "        iteracao+=1"
   ]
  },
  {
   "cell_type": "code",
   "execution_count": 15,
   "metadata": {},
   "outputs": [
    {
     "name": "stdout",
     "output_type": "stream",
     "text": [
      "[[0. 0. 1. 0. 0. 0. 0. 0.]\n",
      " [0. 0. 0. 0. 0. 0. 1. 0.]\n",
      " [0. 0. 0. 0. 0. 0. 0. 1.]\n",
      " [0. 1. 0. 0. 0. 0. 0. 0.]\n",
      " [0. 0. 0. 0. 1. 0. 0. 0.]\n",
      " [1. 0. 0. 0. 0. 0. 0. 0.]\n",
      " [0. 0. 0. 0. 0. 1. 0. 0.]\n",
      " [0. 0. 0. 1. 0. 0. 0. 0.]]\n",
      "\n",
      "Iniciado com: 11 conflitos\n",
      "Depois da resolução: 1 conflitos\n"
     ]
    }
   ],
   "source": [
    "solucao = Simulated_annealing(desafio, h_eliminacoes)\n",
    "print(solucao.initial)\n",
    "\n",
    "print(f'\\nIniciado com: {h_eliminacoes(desafio.tabuleiro)} conflitos')\n",
    "print(f'Depois da resolução: {h_eliminacoes(solucao.initial)} conflitos')"
   ]
  },
  {
   "cell_type": "markdown",
   "metadata": {},
   "source": [
    "Algoritmo Feixe Local irá fazer maior uso de memória, já que os vistos até agora vão ao extremo usa-la de forma mínima, com esse uso adicional espera-se ter melhores resultados em relação a tempo até encontrar uma solução. Sendo esse um algoritmo completo\n",
    "- Será iniciado com uma lista 'no_list' mantendo k estados\n",
    "- Cada um dos k estados serão expandidos e os alocando em 'list_filho'\n",
    "- Da lista 'list_filho' será passado os k melhores estados em relação à função para a lista 'no_list'\n",
    "- E assim o algoritmo segue até encontrar a solução"
   ]
  },
  {
   "cell_type": "code",
   "execution_count": 16,
   "metadata": {},
   "outputs": [],
   "source": [
    "def insertionSort(lista):\n",
    " \n",
    "    for i in range(1, len(lista)):\n",
    " \n",
    "        item = lista[i]\n",
    " \n",
    "        j = i-1\n",
    "        while j >= 0 and h_eliminacoes(item.initial) > h_eliminacoes(lista[j].initial):\n",
    "                lista[j + 1] = lista[j]\n",
    "                j -= 1\n",
    "        lista[j + 1] = item\n",
    "\n",
    "\n",
    "def Feixe_Local(prob, func,  sort, k=50):\n",
    "\n",
    "    no_list = []\n",
    "    list_filho = []\n",
    "    \n",
    "    for i in range(k):\n",
    "        no = Node(prob.tabuleiro)\n",
    "        no_list.append(no)\n",
    "\n",
    "    sort(no_list)\n",
    "    \n",
    "    if prob.test_objetivo(no_list[-1].initial) == True:\n",
    "        return no\n",
    "    \n",
    "    while True:\n",
    "\n",
    "        for no in no_list:\n",
    "            list_filho.extend(no.expandir(prob))\n",
    "\n",
    "        for i in range(len(list_filho)):\n",
    "            \n",
    "            if func(list_filho[i].initial) < func(no_list[0].initial):\n",
    "                no_list.remove(no_list[0])\n",
    "                no_list.append(list_filho[i])\n",
    "                \n",
    "        sort(no_list)\n",
    "\n",
    "        if func(no_list[-1].initial) == 0:\n",
    "                return no_list[-1]"
   ]
  },
  {
   "cell_type": "code",
   "execution_count": 17,
   "metadata": {},
   "outputs": [
    {
     "name": "stdout",
     "output_type": "stream",
     "text": [
      "[[0. 0. 0. 0. 0. 0. 1. 0.]\n",
      " [0. 0. 1. 0. 0. 0. 0. 0.]\n",
      " [1. 0. 0. 0. 0. 0. 0. 0.]\n",
      " [0. 0. 0. 0. 0. 1. 0. 0.]\n",
      " [0. 0. 0. 0. 0. 0. 0. 1.]\n",
      " [0. 0. 0. 0. 1. 0. 0. 0.]\n",
      " [0. 1. 0. 0. 0. 0. 0. 0.]\n",
      " [0. 0. 0. 1. 0. 0. 0. 0.]]\n",
      "\n",
      "Iniciado com: 11 conflitos\n",
      "Depois da resolução: 0 conflitos\n"
     ]
    }
   ],
   "source": [
    "solucao = Feixe_Local(desafio, h_eliminacoes, sort=insertionSort)\n",
    "print(solucao.initial)\n",
    "\n",
    "print(f'\\nIniciado com: {h_eliminacoes(desafio.tabuleiro)} conflitos')\n",
    "print(f'Depois da resolução: {h_eliminacoes(solucao.initial)} conflitos')"
   ]
  },
  {
   "cell_type": "code",
   "execution_count": 2,
   "metadata": {},
   "outputs": [
    {
     "data": {
      "text/plain": [
       "<matplotlib.collections.PathCollection at 0x16a0ba70940>"
      ]
     },
     "execution_count": 2,
     "metadata": {},
     "output_type": "execute_result"
    },
    {
     "data": {
      "image/png": "[encoded data removed]",
      "text/plain": [
       "<Figure size 640x480 with 1 Axes>"
      ]
     },
     "metadata": {},
     "output_type": "display_data"
    }
   ],
   "source": [
    "data = []\n",
    "a = 0\n",
    "for i in range(100):\n",
    "    a+=0.05\n",
    "    data.append(a + np.random.normal(0,1))\n",
    "\n",
    "import matplotlib.pyplot as plt\n",
    "\n",
    "plt.scatter(x=range(len(data)), y=data)"
   ]
  }
 ],
 "metadata": {
  "kernelspec": {
   "display_name": "env",
   "language": "python",
   "name": "python3"
  },
  "language_info": {
   "codemirror_mode": {
    "name": "ipython",
    "version": 3
   },
   "file_extension": ".py",
   "mimetype": "text/x-python",
   "name": "python",
   "nbconvert_exporter": "python",
   "pygments_lexer": "ipython3",
   "version": "3.9.10"
  },
  "orig_nbformat": 4
 },
 "nbformat": 4,
 "nbformat_minor": 2
}
