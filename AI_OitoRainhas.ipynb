{
 "cells": [
  {
   "cell_type": "code",
   "execution_count": 1,
   "metadata": {},
   "outputs": [],
   "source": [
    "import numpy as np"
   ]
  },
  {
   "cell_type": "code",
   "execution_count": null,
   "metadata": {},
   "outputs": [],
   "source": [
    "class Node:\n",
    "         \n",
    "    def __init__(self, initial, parent=None, acao=None, custo=0):\n",
    "\n",
    "        self.initial = initial\n",
    "    \n",
    "    def __repr__(self):\n",
    "        return \"<Node {}>\".format(self.initial)\n",
    "\n",
    "    def expansao(self, problema, rainha):\n",
    "        \n",
    "        return [self.child_node(problema, rainha, acao) \n",
    "                for acao in problema.pos_mov()]\n",
    "        \n",
    "\n",
    "    def child_node(self, problem, rainha, acao):\n",
    "\n",
    "        prox_estado = problem.jogada(self.initial, rainha, acao)\n",
    "\n",
    "        prox_node = Node(prox_estado, self, acao, 0)\n",
    "\n",
    "        return prox_node"
   ]
  },
  {
   "cell_type": "code",
   "execution_count": null,
   "metadata": {},
   "outputs": [],
   "source": [
    "class oitorainhas:\n",
    "\n",
    "    def __init__(self, x, y, tabuleiro=None):\n",
    "        self.x = x\n",
    "        self.y = y\n",
    "\n",
    "        if tabuleiro == None:\n",
    "            self.tabuleiro = np.zeros([x,y])\n",
    "\n",
    "            for i in range(x):\n",
    "                self.tabuleiro[i][0] = 1\n",
    "\n",
    "    def pos_mov(self):\n",
    "\n",
    "        pos = []\n",
    "        for i in range(self.x):\n",
    "            for j in range(self.y):\n",
    "                if self.tabuleiro[i][j] != 1:\n",
    "                    pos.append([i,j])\n",
    "        \n",
    "        return pos\n",
    "\n",
    "    def jogada(self, rainha, coordenada):\n",
    "\n",
    "        tab = self.tabuleiro.copy()\n",
    "\n",
    "        tab[rainha[0],rainha[1]] = 0\n",
    "        tab[coordenada[0],coordenada[1]] = 1\n",
    "\n",
    "        return tab"
   ]
  }
 ],
 "metadata": {
  "kernelspec": {
   "display_name": "env",
   "language": "python",
   "name": "python3"
  },
  "language_info": {
   "codemirror_mode": {
    "name": "ipython",
    "version": 3
   },
   "file_extension": ".py",
   "mimetype": "text/x-python",
   "name": "python",
   "nbconvert_exporter": "python",
   "pygments_lexer": "ipython3",
   "version": "3.9.10"
  },
  "orig_nbformat": 4
 },
 "nbformat": 4,
 "nbformat_minor": 2
}
