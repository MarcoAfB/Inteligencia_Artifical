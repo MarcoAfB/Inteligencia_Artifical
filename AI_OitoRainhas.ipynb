{
 "cells": [
  {
   "cell_type": "code",
   "execution_count": 1,
   "metadata": {},
   "outputs": [],
   "source": [
    "import numpy as np"
   ]
  },
  {
   "cell_type": "code",
   "execution_count": null,
   "metadata": {},
   "outputs": [],
   "source": [
    "class Node:\n",
    "         \n",
    "    def __init__(self, initial, parent=None, acao=None, custo=0):\n",
    "\n",
    "        self.initial = initial\n",
    "    \n",
    "    def __repr__(self):\n",
    "        return \"<Node {}>\".format(self.initial)\n",
    "\n",
    "    def expansao(self, problema, rainha):\n",
    "        \n",
    "        return [self.child_node(problema, rainha, acao) \n",
    "                for acao in problema.pos_mov()]\n",
    "        \n",
    "\n",
    "    def child_node(self, problem, rainha, acao):\n",
    "\n",
    "        prox_estado = problem.jogada(self.initial, rainha, acao)\n",
    "\n",
    "        prox_node = Node(prox_estado, self, acao, 0)\n",
    "\n",
    "        return prox_node"
   ]
  }
 ],
 "metadata": {
  "kernelspec": {
   "display_name": "env",
   "language": "python",
   "name": "python3"
  },
  "language_info": {
   "codemirror_mode": {
    "name": "ipython",
    "version": 3
   },
   "file_extension": ".py",
   "mimetype": "text/x-python",
   "name": "python",
   "nbconvert_exporter": "python",
   "pygments_lexer": "ipython3",
   "version": "3.9.10"
  },
  "orig_nbformat": 4
 },
 "nbformat": 4,
 "nbformat_minor": 2
}
