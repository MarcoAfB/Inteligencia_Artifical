{
 "cells": [
  {
   "cell_type": "code",
   "execution_count": null,
   "metadata": {},
   "outputs": [],
   "source": [
    "import numpy as np"
   ]
  },
  {
   "cell_type": "code",
   "execution_count": null,
   "metadata": {},
   "outputs": [],
   "source": [
    "class CSP():\n",
    "\n",
    "    def __init__(self, variaveis, dominios, vizinhos, restricoes, dim):\n",
    "\n",
    "        self.variaveis = variaveis\n",
    "        self.dominios = dominios\n",
    "        self.vizinhos = vizinhos\n",
    "        self.restricoes = restricoes\n",
    "        self.natribuir = 0\n",
    "        self.dim = dim\n",
    "\n",
    "    def atribuir(self, var, val, atribuicoes):\n",
    "\n",
    "        self.dominios.append(atribuicoes[var])\n",
    "        self.dominios.remove(val)\n",
    "        atribuicoes[var] = val\n",
    "        self.natribuir += 1\n",
    "\n",
    "    def excluir_var(self, var, atribuicoes):\n",
    "\n",
    "        if var in atribuicoes:\n",
    "            del atribuicoes[var]\n",
    "    \n",
    "    def n_conflitos(self, var, val, atribuicoes):\n",
    "\n",
    "        conflitos = 0\n",
    "        var_conflitos = []\n",
    "        def conflito(var2):\n",
    " \n",
    "            return self.restricoes(self.dim, var, val, var2, atribuicoes)\n",
    "\n",
    "        for v in self.vizinhos:\n",
    "            \n",
    "            if conflito(v) == 1:\n",
    "                conflitos+=1\n",
    "                var_conflitos.append(v)\n",
    "            \n",
    "        return [conflitos, var_conflitos]"
   ]
  }
 ],
 "metadata": {
  "language_info": {
   "name": "python"
  }
 },
 "nbformat": 4,
 "nbformat_minor": 2
}
