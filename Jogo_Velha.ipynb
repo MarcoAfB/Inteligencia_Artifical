{
 "cells": [
  {
   "cell_type": "code",
   "execution_count": 1,
   "metadata": {},
   "outputs": [],
   "source": [
    "import numpy as np"
   ]
  },
  {
   "cell_type": "code",
   "execution_count": 2,
   "metadata": {},
   "outputs": [],
   "source": [
    "class jogo_velha:\n",
    "\n",
    "    def __init__(self, tamanho=[3,3]):\n",
    "        self.x = tamanho[0]\n",
    "        self.y = tamanho[1]\n",
    "        self.tabuleiro = np.full((tamanho[0], tamanho[1]), np.inf)\n",
    "\n",
    "    def pos_mov(self, tabuleiro):\n",
    "\n",
    "        pos = []\n",
    "        for i in range(self.x):\n",
    "            for j in range(self.y):\n",
    "                if tabuleiro[i][j] == np.inf:\n",
    "                    pos.append([i,j])\n",
    "        \n",
    "        return pos\n",
    "    \n",
    "    def jogada(self, tabuleiro, coordenada, jogador=0):\n",
    "\n",
    "        tab = tabuleiro.copy()\n",
    "\n",
    "        if jogador == 1:\n",
    "            tab[coordenada[0],coordenada[1]] = 1\n",
    "        else:\n",
    "            tab[coordenada[0],coordenada[1]] = 0\n",
    "\n",
    "        return tab"
   ]
  }
 ],
 "metadata": {
  "kernelspec": {
   "display_name": "env",
   "language": "python",
   "name": "python3"
  },
  "language_info": {
   "codemirror_mode": {
    "name": "ipython",
    "version": 3
   },
   "file_extension": ".py",
   "mimetype": "text/x-python",
   "name": "python",
   "nbconvert_exporter": "python",
   "pygments_lexer": "ipython3",
   "version": "3.9.10"
  },
  "orig_nbformat": 4
 },
 "nbformat": 4,
 "nbformat_minor": 2
}
