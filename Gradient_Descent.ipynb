{
 "cells": [
  {
   "cell_type": "code",
   "execution_count": 1,
   "metadata": {},
   "outputs": [],
   "source": [
    "import numpy as np\n",
    "import matplotlib.pyplot as plt"
   ]
  },
  {
   "cell_type": "code",
   "execution_count": 2,
   "metadata": {},
   "outputs": [],
   "source": [
    "'''Definindo o problema sendo sobre encontrar os melhores parâmetros\n",
    "de intersecção e slope para reta'''\n",
    "\n",
    "class LR():\n",
    "\n",
    "    def __init__(self, x,  y, parametros=np.array([0.0,1.0]).reshape(2,1)):\n",
    "        self.x = x\n",
    "        self.parametro = parametros\n",
    "        self.y = y\n",
    "    \n",
    "    def estimar(self):\n",
    "\n",
    "        return self.x.dot(self.parametro)\n",
    "\n",
    "    def RSS(self):\n",
    "\n",
    "        predict = self.estimar()\n",
    "        return sum((self.y-predict)**2)\n",
    "    \n",
    "    def gradient(self, predict=None):\n",
    "\n",
    "        if predict == None:\n",
    "            predict = self.estimar()\n",
    "\n",
    "        grad1_l = []\n",
    "        grad0_l = []\n",
    "\n",
    "        for i in range(len(self.x)):\n",
    "            grad1 = -2*(self.y[i] - predict[i])*self.x[i][1]\n",
    "            grad0 = -2*(self.y[i] - predict[i])\n",
    "\n",
    "            grad1_l.append(grad1)\n",
    "            grad0_l.append(grad0)\n",
    "        return sum(grad0), sum(grad1)\n",
    "    \n",
    "    def objetivo(self):\n",
    "\n",
    "        if round(self.gradient()[0], 10) == 0 and round(self.gradient()[1], 10) == 0:\n",
    "            print(\"parametros encontrados\")\n",
    "            return True\n",
    "        else:\n",
    "            return False"
   ]
  },
  {
   "cell_type": "code",
   "execution_count": 3,
   "metadata": {},
   "outputs": [],
   "source": [
    "def Gradient_Descent(problem, learn_rate=0.00001):\n",
    "\n",
    "    if problem.objetivo():\n",
    "        return True\n",
    "    \n",
    "    while True:\n",
    "        maxim = problem.gradient()\n",
    "\n",
    "        problem.parametro[0] = problem.parametro[0] - (maxim[0]*learn_rate)\n",
    "        problem.parametro[1] = problem.parametro[1] - (maxim[1]*learn_rate)\n",
    "\n",
    "        if problem.objetivo():\n",
    "            return True"
   ]
  },
  {
   "cell_type": "code",
   "execution_count": 7,
   "metadata": {},
   "outputs": [
    {
     "data": {
      "image/png": "[encoded data removed]",
      "text/plain": [
       "<Figure size 640x480 with 1 Axes>"
      ]
     },
     "metadata": {},
     "output_type": "display_data"
    }
   ],
   "source": [
    "# Iremos utilizar dados fictícios \n",
    "y = []\n",
    "x = []\n",
    "a = 0\n",
    "for i in range(100):\n",
    "    a+=0.05\n",
    "    x.append(a)\n",
    "    y.append(a + np.random.normal(0,1))\n",
    "\n",
    "plt.scatter(x=range(len(x)), y=y)\n",
    "\n",
    "x = np.array(x)\n",
    "x = x.reshape((100,1))"
   ]
  },
  {
   "cell_type": "code",
   "execution_count": null,
   "metadata": {},
   "outputs": [],
   "source": [
    "# Criando as arrays com os dados\n",
    "\n",
    "'''É adicionado 1 na primeira coluna para que\n",
    "possa ser feito inner product entre os parâmetros e \n",
    "variáveis'''\n",
    "var = np.column_stack(([1 for i in range(100)], x))\n",
    "parametros = np.array([0.0,0.0]).reshape([2,1])"
   ]
  }
 ],
 "metadata": {
  "kernelspec": {
   "display_name": "env",
   "language": "python",
   "name": "python3"
  },
  "language_info": {
   "codemirror_mode": {
    "name": "ipython",
    "version": 3
   },
   "file_extension": ".py",
   "mimetype": "text/x-python",
   "name": "python",
   "nbconvert_exporter": "python",
   "pygments_lexer": "ipython3",
   "version": "3.9.10"
  },
  "orig_nbformat": 4
 },
 "nbformat": 4,
 "nbformat_minor": 2
}
